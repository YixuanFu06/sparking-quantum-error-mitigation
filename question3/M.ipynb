# Precompute the base 4x4 matrix for single-qubit Paulis: I=0, X=1, Y=2, Z=3
base_M = [[0]*4 for _ in range(4)]
for i in range(4):
    for j in range(4):
        # Anti-commute if both are non-identity (non-zero) and different
        if i != j and i != 0 and j != 0:
            base_M[i][j] = 1

# Generate the list of two-qubit Pauli operators (as tuples)
paulis = [(i, j) for i in range(4) for j in range(4)]

# Initialize the 16x16 matrix M
n = len(paulis)
M = [[0] * n for _ in range(n)]

# Fill the matrix M
for a in range(n):
    pauli_a = paulis[a]  # Decompose into (a1, a2)
    for b in range(n):
        pauli_b = paulis[b]  # Decompose into (b1, b2)
        # Count anti-commuting qubit positions
        count = base_M[pauli_a[0]][pauli_b[0]] + base_M[pauli_a[1]][pauli_b[1]]
        # Set 1 if odd number of anti-commuting pairs
        M[a][b] = 1 if count % 2 == 1 else 0

# Print the matrix
for row in M:
    print(row)
