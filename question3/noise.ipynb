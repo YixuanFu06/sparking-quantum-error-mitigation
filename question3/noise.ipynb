{
 "cells": [
  {
   "cell_type": "code",
   "execution_count": null,
   "id": "851b0c64",
   "metadata": {},
   "outputs": [],
   "source": [
    "from noise_sim_tc import noise_sim\n",
    "import tensorcircuit as tc\n",
    "import numpy as np\n",
    "\n",
    "def cz_expectation(observable, n_cz, isNoisy=True):\n",
    "    \"\"\"\n",
    "    observable: list, e.g. [0,3]，0,1,2,3分别代表I,X,Y,Z，顺序对应比特0和1\n",
    "    n_cz: int, CZ门数量\n",
    "    返回有噪声电路的期望值\n",
    "    \"\"\"\n",
    "    # 泡利算符映射\n",
    "    pauli_keys = ['i', 'x', 'y', 'z']\n",
    "    obs_dict = {pauli_keys[observable[0]]: [0], pauli_keys[observable[1]]: [1]}\n",
    "\n",
    "    # 生成泡利算符列表\n",
    "    pauli_dict = {\n",
    "        'i': np.array([[1, 0], [0, 1]]),\n",
    "        'x': np.array([[0, 1], [1, 0]]),\n",
    "        'y': np.array([[0, -1j], [1j, 0]]),\n",
    "        'z': np.array([[1, 0], [0, -1]])\n",
    "    }\n",
    "    # 构造特征向量\n",
    "    def get_eigenvector(idx):\n",
    "        if idx == 0:\n",
    "            return np.array([1, 0])  # I本征态任意，取|0>\n",
    "        elif idx == 1:\n",
    "            return np.array([1, 1]) / np.sqrt(2)  # X本征态\n",
    "        elif idx == 2:\n",
    "            return np.array([1, 1j]) / np.sqrt(2)  # Y本征态\n",
    "        elif idx == 3:\n",
    "            return np.array([1, 0])  # Z本征态\n",
    "    state_list = [get_eigenvector(observable[0]), get_eigenvector(observable[1])]\n",
    "    init_state = np.kron(state_list[0], state_list[1])\n",
    "\n",
    "    # 构造电路\n",
    "    circuit = tc.Circuit(2, inputs=init_state)\n",
    "    for _ in range(n_cz):\n",
    "        circuit.cz(0, 1)\n",
    "    circuit_noise = noise_sim(circuit)\n",
    "\n",
    "    # 计算期望值\n",
    "    pn_noisy = circuit_noise.expectation_ps(**obs_dict)\n",
    "    pn_noiseless = circuit.expectation_ps(**obs_dict)\n",
    "    if isNoisy:\n",
    "        return pn_noisy\n",
    "    return pn_noiseless"
   ]
  },
  {
   "cell_type": "code",
   "execution_count": 78,
   "id": "800b18f6",
   "metadata": {},
   "outputs": [
    {
     "name": "stdout",
     "output_type": "stream",
     "text": [
      "(0.99999994+0j) (0.99999994+0j)\n",
      "(1+0j)\n"
     ]
    }
   ],
   "source": [
    "observable=[1,3]\n",
    "result03_2 = cz_expectation(observable, n_cz=2,isNoisy=False)\n",
    "result03_4 = cz_expectation(observable, n_cz=4,isNoisy=False)\n",
    "if result03_4==0:\n",
    "    f03=0\n",
    "else:\n",
    "    f03 = result03_2 / result03_4\n",
    "print(result03_2, result03_4)\n",
    "print(f03)"
   ]
  },
  {
   "cell_type": "code",
   "execution_count": 79,
   "id": "7cc80831",
   "metadata": {},
   "outputs": [
    {
     "name": "stdout",
     "output_type": "stream",
     "text": [
      "[(1+0j), (1+0j), (1+0j), (1+0j), (1+0j), (1+0j), (1+0j), (1+0j), (1+0j), (1+0j), (1+0j), (1+0j), (1+0j), (1+0j), (1+0j), (1+0j)]\n"
     ]
    }
   ],
   "source": [
    "f=[]\n",
    "for i in range(4):\n",
    "    for j in range(4):\n",
    "        fidelity2_ij = cz_expectation([i,j], n_cz=2, isNoisy=False)\n",
    "        fidelity4_ij = cz_expectation([i,j], n_cz=4, isNoisy=False)\n",
    "        if fidelity2_ij == 0:\n",
    "            f.append(0)\n",
    "        else:\n",
    "            f.append(fidelity4_ij / fidelity2_ij)\n",
    "print(f)\n"
   ]
  }
 ],
 "metadata": {
  "kernelspec": {
   "display_name": "tc-tf",
   "language": "python",
   "name": "python3"
  },
  "language_info": {
   "codemirror_mode": {
    "name": "ipython",
    "version": 3
   },
   "file_extension": ".py",
   "mimetype": "text/x-python",
   "name": "python",
   "nbconvert_exporter": "python",
   "pygments_lexer": "ipython3",
   "version": "3.9.23"
  }
 },
 "nbformat": 4,
 "nbformat_minor": 5
}
